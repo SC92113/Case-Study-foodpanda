{
 "cells": [
  {
   "cell_type": "markdown",
   "metadata": {},
   "source": [
    "## Overview"
   ]
  },
  {
   "cell_type": "markdown",
   "metadata": {},
   "source": [
    "- Nowadays, people eat in many different ways, ranging from less convenient to more convenient options. Some people cook unprepared foods while others prefer prepared foods that are ready to eat. foodpanda has already developed solutions for three main categories of eating options.\n",
    "\n",
    "    - On-demand restaurant delivery\n",
    "    - Eating out/ ordering pickup\n",
    "    - Online grocery delivery\n",
    "\n",
    "- Healthy packaged food consumption increases rather than that of prepared foods from restaurants and unprepared grocery foods.\n",
    "\n",
    "- In this case study, I aimed to answer whether or not foodpanda should build a new solution for a 4th way of eating: Packaged Meals to fit user needs and add business values to company."
   ]
  },
  {
   "cell_type": "markdown",
   "metadata": {},
   "source": [
    "## Market Insight"
   ]
  },
  {
   "cell_type": "markdown",
   "metadata": {},
   "source": [
    "#### Overview\n",
    "- Healthy packaged meal market in Asia has an expected compounded annual growth rate of 17.8%, higher than the online food delivery market by 10.4%. \n",
    "\n",
    "- According to Statista, the revenue from convenience food (as known as packaged meals) in Southeast Asia amounts to 33.89 billion USD this year. It is expected to grow annually by 5.25% until 2027, while the average consumption volume per person is expected to amount to 10.47kg in 2023. \n",
    "\n",
    "- Sources\n",
    "    - https://www.simplotfoods.com/myanmar/blog/the-growing-demand-for-convenience-food\n",
    "    - https://www.statista.com/outlook/cmo/food/convenience-food/ready-to-eat-meals/asia "
   ]
  },
  {
   "cell_type": "markdown",
   "metadata": {},
   "source": [
    "#### Differences among Unprepared grocery food, Prepared food from restaurants, Prepared packaged meal\n",
    "\n",
    "|Aspect|Unprepared Grocery Food|Prepared Food from Restaurants|Prepared Packaged Meal|\n",
    "|:-|:-|:-|:-|\n",
    "|Preparation Required|Requires full preparation and cooking|Ready to eat or requires minimal prep|Usually requires heating or minimal prep|\n",
    "|Convenience|Low|High|Moderate to High|\n",
    "|Cost|Generally lower|Generally higher|Moderate|\n",
    "|Nutritional Control|High control over ingredients and portions|Variable, depends on restaurant|Variable, often labeled with nutrition info|\n",
    "|Shelf Life|Varies, often longer (fresh or frozen)|Short|Moderate, typically longer shelf life|\n",
    "|Customization|High customization|Limited customization|Limited customization|\n",
    "|Time Required|High (for shopping, prep, cooking)|Low to none|Low (mostly heating)|\n",
    "|Taste|Depends on cooking skills|Typically restaurant quality|Varies, often less fresh|\n",
    "|Healthiness|Can be very healthy|Variable, may include more fats/sugars|Variable, may include preservatives|\n",
    "|Waste|Potential for less waste with planning|Potential for more waste (packaging, leftovers)|Moderate waste (packaging)|"
   ]
  },
  {
   "cell_type": "markdown",
   "metadata": {},
   "source": [
    "#### Analysis among 5 Common Packaged Meal Brands in Asia in terms of Available Location, Actual Detail Pricing, Meal Option, Order Timing and Food Last Up to Timing\n",
    "\n",
    "|Aspect|Nutrition Kitchen|Eatology|TSquared Eats|Fittery|YoloFoods\n",
    "|:-|:-|:-|:-|:-|:-|\n",
    "|Available Locations|Hong Kong, Singapore|Hong Kong|Singapore|Hong Kong|Singapore, Malaysia|\n",
    "|Detail Pricing Per Week|HKD 600–1,200|HKD 700–1,500|SGD 70–150|HKD 600–1,200|SGD 80–160|\n",
    "|Meal Options|Balanced, keto, low-carb, vegetarian|Keto, paleo, vegetarian, vegan|Low-carb, high-protein|Keto, low-carb, high-protein|Vegetarian, balanced, low-carb|\n",
    "|Order Timing|Order by 5 PM for next-day delivery|Order by 12 PM for next-day delivery|Order by 3 PM for next-day delivery|Order by 5 PM for next-day delivery|Order by 12 PM for next-day delivery|\n",
    "|Food Lasts Up To|3–4 days|3–4 days|3–4 days|3–4 days|4–5 days|"
   ]
  },
  {
   "cell_type": "markdown",
   "metadata": {},
   "source": [
    "## Objectives"
   ]
  },
  {
   "cell_type": "markdown",
   "metadata": {},
   "source": [
    "- Add value to users and foodpanda business.\n",
    "\n",
    "- Secure more engagements from existing users and continue to expand the use base for foodpanda business.\n",
    "\n",
    "- Provide healthy packaged meal options in a more convenient way for users."
   ]
  },
  {
   "cell_type": "markdown",
   "metadata": {},
   "source": [
    "## Target User Segments"
   ]
  },
  {
   "cell_type": "markdown",
   "metadata": {},
   "source": [
    "- There are similarities between the existing foodpanda users and users ordering healthy packed food meals.\n",
    "\n",
    "    - They are similar in age and share the same attitude when it comes to eating food, it helps them not to go to the grocery stores and look for the quickest options.\n",
    "    - They are accustomed to equivalent ordering procedures."
   ]
  },
  {
   "cell_type": "markdown",
   "metadata": {},
   "source": [
    "|User types|foodpanda Users|Healthy Packaged Meal Users|\n",
    "|:-|:-|:-|\n",
    "|Ages|54%|64%|\n",
    "|Attitudes|60% of users order delivery to avoid shopping for & preparing meals|65% of users seek quick & easy meal solution|\n",
    "|Personas|Busy professionals (single, couples, corporate teams),Parents, Elderly, Students, Travelers|Busy professionals (single, couples, corporate teams), Parents, Elderly, Students, Travelers|"
   ]
  },
  {
   "cell_type": "markdown",
   "metadata": {},
   "source": [
    "## User Needs and Pain Points"
   ]
  },
  {
   "cell_type": "markdown",
   "metadata": {},
   "source": [
    "#### foodpanda Users\n",
    "- Cannot search for healthy meal options in an easy way.\n",
    "\n",
    "    - After the pandemic, people start eating a healthier diet. When people get food delivered, most of them are not convinced that they are eating healthier than they cook for themselves.\n",
    "- It is time-consuming to prepare and cook the healthy foods they want.\n",
    "\n",
    "    - When it comes to preparation time, millennials showed the least amount of time they would spend on preparing food. Packaged food was purchased by 66% of the Millennial respondents within a week before the survey. A batch of healthy packaged meals usually takes 4-5 minutes to warm up and can be stored for 3-4 days in the refrigerator."
   ]
  },
  {
   "cell_type": "markdown",
   "metadata": {},
   "source": [
    "## User Stories"
   ]
  },
  {
   "cell_type": "markdown",
   "metadata": {},
   "source": [
    "- As a foodpanda user, I want to explore healthy packaged meal partners, so that I can decide which one to order with.\n",
    "\n",
    "- As a foodpanda user, I want to select a healthy packaged meal brand, the meals I want, and a delivery date, so that I can order meals.\n",
    "\n",
    "- As a foodpanda user, I want to see the status of my healthy packaged meal order, so that I can plan accordingly.\n",
    "\n",
    "- As a foodpanda user, I want to reschedule and cancel the meal order, so that I can manage my order and subscription flexibly."
   ]
  },
  {
   "cell_type": "markdown",
   "metadata": {},
   "source": [
    "## Proposed Solution"
   ]
  },
  {
   "cell_type": "markdown",
   "metadata": {},
   "source": [
    "#### Overview\n",
    "- Partner with packaged meal brands, introduce healthy packaged meals into foodpanda, and provide healthy packaged meal subscriptions by foodpanda (batch and single order)."
   ]
  },
  {
   "cell_type": "markdown",
   "metadata": {},
   "source": [
    "#### Schedule Mode\n",
    "- Users can explore, select and schedule a batch of healthy packaged meals to be delivered a few days in the future.\n",
    "\n",
    "- Users can see the status of each order.\n",
    "\n",
    "- Users can reschedule and cancel the order.\n",
    "\n",
    "- Order types\n",
    "    - Batch subscription\n",
    "    - Batch orders\n",
    "    - Single order\n",
    "\n",
    "- Operation \n",
    "    - Local foodpanda couriers can be tasked with picking up and delivering the batches of meals based on a predetermined schedule."
   ]
  },
  {
   "cell_type": "markdown",
   "metadata": {},
   "source": [
    "#### On-Demand Mode\n",
    "- Users can explore, select and order healthy packaged meals for delivery within 30 minutes.\n",
    "\n",
    "- Users can see the status of each order.\n",
    "\n",
    "- Users can reschedule and cancel the order.\n",
    "\n",
    "- Order types\n",
    "    - Single order\n",
    "    - Batch orders\n",
    "    - Add-On\n",
    "\n",
    "- Operation\n",
    "    - To ensure that meal inventory is managed efficiently, it is important to predict which meals will be selected on a weekly basis. This information can then be used to determine an appropriate amount of inventory to take on. Local foodpanda couriers can be assigned to pick up and deliver single, batch, or add-on orders, based on the predicted demand. "
   ]
  },
  {
   "cell_type": "markdown",
   "metadata": {},
   "source": [
    "## Launch Plan"
   ]
  },
  {
   "cell_type": "markdown",
   "metadata": {},
   "source": [
    "#### MVP launch\n",
    "- Run a pilot in some cities such Singapore and Hong Kong in Asia.\n",
    "\n",
    "    - Work with team members to educate internal stakeholders (support, marketing, data science, etc.) and external stakeholders (couriers, packaged meal brands) about the healthy packaged meal product & nuances."
   ]
  },
  {
   "cell_type": "markdown",
   "metadata": {},
   "source": [
    "#### Feedback review and pivot\n",
    "- Iterate based on company earning.\n"
   ]
  },
  {
   "cell_type": "markdown",
   "metadata": {},
   "source": [
    "#### Full launch\n",
    "- Rollout to all available cities on foodpanda, which are Bangladesh, Cambodia, Hong Kong, Laos, Malaysia, Myanmar, Pakistan, Philippines, Singapore, Taiwan, Thailand."
   ]
  },
  {
   "cell_type": "markdown",
   "metadata": {},
   "source": [
    "## Success Metrics"
   ]
  },
  {
   "cell_type": "markdown",
   "metadata": {},
   "source": [
    "#### North Star Metric\n",
    "- Average packaged meal orders per user per week"
   ]
  },
  {
   "cell_type": "markdown",
   "metadata": {},
   "source": [
    "#### Counter Metrics\n",
    "- Average restaurant orders per week \n",
    "- Average grocery store orders per week"
   ]
  },
  {
   "cell_type": "markdown",
   "metadata": {},
   "source": [
    "#### Monitoring Metrics\n",
    "- Packaged meal subscription start error rate\n",
    "- Number of daily “0 meals available” error\n",
    "- Packaged meal order send error rate"
   ]
  },
  {
   "cell_type": "markdown",
   "metadata": {},
   "source": [
    "#### Leading Indicators\n",
    "- Packaged meal brand impressions\n",
    "- Packaged meal funnel conversion rate\n",
    "- New packaged meal subscriptions per week"
   ]
  },
  {
   "cell_type": "markdown",
   "metadata": {},
   "source": [
    "#### Lagging Indicators\n",
    "- Average revenue per user per month\n",
    "- 3 month user retention"
   ]
  },
  {
   "cell_type": "markdown",
   "metadata": {},
   "source": [
    "## Product\n",
    "- TBD"
   ]
  }
 ],
 "metadata": {
  "language_info": {
   "name": "python"
  }
 },
 "nbformat": 4,
 "nbformat_minor": 2
}
